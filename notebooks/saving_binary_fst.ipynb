{
 "cells": [
  {
   "cell_type": "markdown",
   "metadata": {},
   "source": [
    "# Creating and saving a binary fst"
   ]
  },
  {
   "cell_type": "code",
   "execution_count": null,
   "metadata": {
    "collapsed": true
   },
   "outputs": [],
   "source": [
    "from fst import StdVectorFst\n",
    "\n",
    "fst = StdVectorFst()\n",
    "\n",
    "fst.start = fst.add_state()\n",
    "\n",
    "fst.add_arc(0, 1, 1, 1, 0.5)\n",
    "fst.add_arc(0, 1, 2, 2, 1.5)\n",
    "\n",
    "fst.add_state()\n",
    "fst.add_arc(1, 2, 3, 3, 2.5)\n",
    "\n",
    "fst.add_state()\n",
    "fst[2].final = 3.5\n",
    "\n",
    "fst.write('binary.fst')"
   ]
  }
 ],
 "metadata": {
  "kernelspec": {
   "display_name": "Python 2",
   "language": "python",
   "name": "python2"
  },
  "language_info": {
   "codemirror_mode": {
    "name": "ipython",
    "version": 2
   },
   "file_extension": ".py",
   "mimetype": "text/x-python",
   "name": "python",
   "nbconvert_exporter": "python",
   "pygments_lexer": "ipython2",
   "version": "2.7.12"
  }
 },
 "nbformat": 4,
 "nbformat_minor": 0
}
